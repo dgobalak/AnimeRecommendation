{
 "metadata": {
  "language_info": {
   "codemirror_mode": {
    "name": "ipython",
    "version": 3
   },
   "file_extension": ".py",
   "mimetype": "text/x-python",
   "name": "python",
   "nbconvert_exporter": "python",
   "pygments_lexer": "ipython3",
   "version": "3.7.9"
  },
  "orig_nbformat": 2,
  "kernelspec": {
   "name": "python379jvsc74a57bd0f8b63c3325109f08413425da9fb6a816e77c0187ae562f96bd2616614a210d12",
   "display_name": "Python 3.7.9 64-bit ('.venv': venv)"
  }
 },
 "nbformat": 4,
 "nbformat_minor": 2,
 "cells": [
  {
   "cell_type": "code",
   "execution_count": 12,
   "metadata": {},
   "outputs": [],
   "source": [
    "import pandas as pd\n",
    "from scipy.sparse import csr_matrix\n",
    "from sklearn.neighbors import NearestNeighbors\n",
    "from fuzzywuzzy import process"
   ]
  },
  {
   "cell_type": "code",
   "execution_count": 13,
   "metadata": {},
   "outputs": [],
   "source": [
    "df_anime = pd.read_csv('anime.csv', usecols=['anime_id', 'name'], dtype={'anime_id': 'int32', 'name': 'str'})\n",
    "df_ratings = pd.read_csv('rating.csv', dtype={'anime_id': 'int32', 'user_id': 'int32', 'rating':'float32'})[['anime_id', 'user_id', 'rating']]\n"
   ]
  },
  {
   "cell_type": "code",
   "execution_count": 3,
   "metadata": {},
   "outputs": [
    {
     "output_type": "stream",
     "name": "stdout",
     "text": [
      "user_id   1      2      3      4      5      6      7      8      9      \\\nanime_id                                                                  \n1           0.0    0.0    0.0    0.0    0.0    0.0    0.0    0.0    0.0   \n5           0.0    0.0    0.0    0.0    0.0    0.0    0.0    0.0    0.0   \n6           0.0    0.0    0.0   -1.0    8.0    0.0    0.0    0.0    0.0   \n7           0.0    0.0    0.0    0.0    0.0    0.0    0.0    0.0    0.0   \n8           0.0    0.0    0.0    0.0    0.0    0.0    0.0    0.0    0.0   \n...         ...    ...    ...    ...    ...    ...    ...    ...    ...   \n34367       0.0    0.0    0.0    0.0    0.0    0.0    0.0    0.0    0.0   \n34412       0.0    0.0    0.0    0.0    0.0    0.0    0.0    0.0    0.0   \n34475       0.0    0.0    0.0    0.0    0.0    0.0    0.0    0.0    0.0   \n34476       0.0    0.0    0.0    0.0    0.0    0.0    0.0    0.0    0.0   \n34519       0.0    0.0    0.0    0.0    0.0    0.0    0.0    0.0    0.0   \n\nuser_id   10     ...  73507  73508  73509  73510  73511  73512  73513  73514  \\\nanime_id         ...                                                           \n1           0.0  ...    9.0    0.0    0.0    0.0    0.0    0.0    9.0    0.0   \n5           0.0  ...    8.0    0.0    0.0    0.0    0.0    0.0    8.0    0.0   \n6           0.0  ...    9.0    0.0    0.0    0.0    0.0    0.0    0.0    0.0   \n7           0.0  ...    0.0    0.0    0.0    0.0    0.0    0.0    0.0    0.0   \n8           0.0  ...    0.0    0.0    0.0    0.0    0.0    0.0    0.0    0.0   \n...         ...  ...    ...    ...    ...    ...    ...    ...    ...    ...   \n34367       0.0  ...    0.0    0.0    0.0    0.0    0.0    0.0    0.0    0.0   \n34412       0.0  ...    0.0    0.0    0.0    0.0    0.0    0.0    0.0    0.0   \n34475       0.0  ...    0.0    0.0    0.0    0.0    0.0    0.0    0.0    0.0   \n34476       0.0  ...    0.0    0.0    0.0    0.0    0.0    0.0    0.0    0.0   \n34519       0.0  ...    0.0    0.0    0.0    0.0    0.0    0.0    0.0    0.0   \n\nuser_id   73515  73516  \nanime_id                \n1          10.0    0.0  \n5          10.0    0.0  \n6          10.0    0.0  \n7           0.0    0.0  \n8           0.0    0.0  \n...         ...    ...  \n34367       0.0    0.0  \n34412       0.0    0.0  \n34475       0.0    0.0  \n34476       0.0    0.0  \n34519       0.0    0.0  \n\n[11200 rows x 73515 columns]\n"
     ]
    }
   ],
   "source": [
    "# Sparse Matrix: Creates a matrix with animes as the rows, users as columns, and ratings as the entries\n",
    "# Creating table that'll be converted to sparse matrix; anime_id for rows and user_id for cols\n",
    "anime_users = df_ratings.pivot_table(index='anime_id',columns='user_id',values='rating').fillna(0)\n",
    "# convert dataframe of anime features to scipy sparse matrix\n",
    "anime_user_matrix = csr_matrix(anime_users.values)"
   ]
  },
  {
   "cell_type": "code",
   "execution_count": 14,
   "metadata": {},
   "outputs": [],
   "source": [
    "# Formulas for getting distance between the vectors: Euclidean Distance, Manhattan Distance, Minkowski Distance\n",
    "# Cosine Similarity calculates the percentage of similarity\n",
    "# Algorithms: Brute force, ball tree, and KD tree\n",
    "NUM_RECOMMENDED = 15\n",
    "model_knn = NearestNeighbors(metric='cosine', algorithm='brute', n_neighbors=NUM_RECOMMENDED)   "
   ]
  },
  {
   "cell_type": "code",
   "execution_count": 9,
   "metadata": {},
   "outputs": [
    {
     "output_type": "execute_result",
     "data": {
      "text/plain": [
       "NearestNeighbors(algorithm='brute', metric='cosine', n_neighbors=15)"
      ]
     },
     "metadata": {},
     "execution_count": 9
    }
   ],
   "source": [
    "# Training the model\n",
    "model_knn.fit(anime_user_matrix)"
   ]
  },
  {
   "cell_type": "code",
   "execution_count": 21,
   "metadata": {},
   "outputs": [],
   "source": [
    "def get_anime_id(name):\n",
    "    anime_details = process.extractOne(name, df_anime['name'])\n",
    "    # Ex: ('Naruto: Shippuden', 91, 615) gives the name, accuracy, and id number\n",
    "    id = anime_details[2]\n",
    "    return id"
   ]
  },
  {
   "cell_type": "code",
   "execution_count": 72,
   "metadata": {},
   "outputs": [],
   "source": [
    "def get_anime_names(indices):\n",
    "    names = [str(df_anime['name'][x]) for x in indices[0][1:]]\n",
    "    return names\n"
   ]
  },
  {
   "cell_type": "code",
   "execution_count": 74,
   "metadata": {},
   "outputs": [
    {
     "output_type": "stream",
     "name": "stdout",
     "text": [
      "Recommended Anime For Naruto(ID 841) ->\nWasurenagumo\nUrayasu Tekkin Kazoku\nKuruneko Season 2\nMobile Suit Gundam: Char&#039;s Counterattack\nPrecure All Stars Movie DX2: Kibou no Hikari☆Rainbow Jewel wo Mamore!\nLupin III: The Last Job\nSKET Dance: SD Character Flash Anime\nGenshiken Nidaime OVA\nSchool Rumble\nShinmai Maou no Testament Specials\nMaria-sama ga Miteru 4th Specials\nStar Driver: Kagayaki no Takuto\nOne Piece: Glorious Island\nRose of Versailles Movie\nDoraemon Movie 13: Nobita to Kumo no Oukoku\nYes! Precure 5 Movie: Kagami no Kuni no Miracle Daibouken!\nDoraemon: The Day When I Was Born\nThe Cockpit\nShaman King\n"
     ]
    }
   ],
   "source": [
    "# Recommender(movie_name) => List of Recommended Anime\n",
    "def recommender(anime_name, data_matrix, model, n_recommendations):\n",
    "    model.fit(data_matrix)\n",
    "    id = get_anime_id(anime_name)\n",
    "    print(f'Recommended Anime For {anime_name}(ID {id}) ->')\n",
    "    distances, indices = model.kneighbors(data_matrix[id], n_neighbors=n_recommendations)\n",
    "    recommended = get_anime_names(indices)\n",
    "    print(\"\\n\".join(recommended))\n",
    "recommender('Naruto', anime_user_matrix, model_knn, 20)"
   ]
  }
 ]
}