{
 "metadata": {
  "language_info": {
   "codemirror_mode": {
    "name": "ipython",
    "version": 3
   },
   "file_extension": ".py",
   "mimetype": "text/x-python",
   "name": "python",
   "nbconvert_exporter": "python",
   "pygments_lexer": "ipython3",
   "version": "3.7.9"
  },
  "orig_nbformat": 2,
  "kernelspec": {
   "name": "pythonjvsc74a57bd0f8b63c3325109f08413425da9fb6a816e77c0187ae562f96bd2616614a210d12",
   "display_name": "Python 3.7.9  ('.venv': venv)"
  },
  "metadata": {
   "interpreter": {
    "hash": "f8b63c3325109f08413425da9fb6a816e77c0187ae562f96bd2616614a210d12"
   }
  }
 },
 "nbformat": 4,
 "nbformat_minor": 2,
 "cells": [
  {
   "cell_type": "code",
   "execution_count": 10,
   "metadata": {},
   "outputs": [],
   "source": [
    "import pandas as pd\n",
    "from scipy.sparse import csr_matrix\n",
    "from sklearn.neighbors import NearestNeighbors\n",
    "from fuzzywuzzy import process\n",
    "import pickle"
   ]
  },
  {
   "cell_type": "code",
   "execution_count": 2,
   "metadata": {},
   "outputs": [],
   "source": [
    "df_anime = pd.read_csv('anime.csv', usecols=['anime_id', 'name'], dtype={'anime_id': 'int32', 'name': 'str'})\n",
    "df_ratings = pd.read_csv('rating.csv', dtype={'anime_id': 'int32', 'user_id': 'int32', 'rating':'float32'})[['anime_id', 'user_id', 'rating']]\n"
   ]
  },
  {
   "cell_type": "code",
   "execution_count": 3,
   "metadata": {},
   "outputs": [],
   "source": [
    "# Sparse Matrix: Creates a matrix with animes as the rows, users as columns, and ratings as the entries\n",
    "# Creating table that'll be converted to sparse matrix; anime_id for rows and user_id for cols\n",
    "anime_users = df_ratings.pivot_table(index='anime_id',columns='user_id',values='rating').fillna(0)\n",
    "# convert dataframe of anime features to scipy sparse matrix\n",
    "anime_user_matrix = csr_matrix(anime_users.values)"
   ]
  },
  {
   "cell_type": "code",
   "execution_count": 4,
   "metadata": {},
   "outputs": [],
   "source": [
    "# Formulas for getting distance between the vectors: Euclidean Distance, Manhattan Distance, Minkowski Distance\n",
    "# Cosine Similarity calculates the percentage of similarity\n",
    "# Algorithms: Brute force, ball tree, and KD tree\n",
    "NUM_RECOMMENDED = 20\n",
    "model_knn = NearestNeighbors(metric='cosine', algorithm='brute', n_neighbors=NUM_RECOMMENDED)   "
   ]
  },
  {
   "cell_type": "code",
   "execution_count": 5,
   "metadata": {},
   "outputs": [
    {
     "output_type": "execute_result",
     "data": {
      "text/plain": [
       "NearestNeighbors(algorithm='brute', metric='cosine', n_neighbors=20)"
      ]
     },
     "metadata": {},
     "execution_count": 5
    }
   ],
   "source": [
    "# Training the model\n",
    "model_knn.fit(anime_user_matrix)"
   ]
  },
  {
   "cell_type": "code",
   "execution_count": 12,
   "metadata": {},
   "outputs": [],
   "source": [
    "with open('ratings_model_knn.pkl', 'wb') as f:\n",
    "    pickle.dump(model_knn, f)"
   ]
  },
  {
   "cell_type": "code",
   "execution_count": null,
   "metadata": {},
   "outputs": [],
   "source": [
    "with open('ratings_matrix_knn.pkl', 'wb') as f:\r\n",
    "    pickle.dump(anime_user_matrix, f)"
   ]
  }
 ]
}